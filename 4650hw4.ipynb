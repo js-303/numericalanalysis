{
 "cells": [
  {
   "cell_type": "code",
   "execution_count": 1,
   "metadata": {},
   "outputs": [],
   "source": [
    "import numpy as np\n",
    "import matplotlib.pyplot as plt\n",
    "from scipy.stats import linregress"
   ]
  },
  {
   "cell_type": "code",
   "execution_count": 2,
   "metadata": {},
   "outputs": [],
   "source": [
    "test_n = [10,20,50,100,200,500,1000,2000]\n",
    "result = [ [] for _ in range(len(test_n))]\n",
    "avg_means = [ [] for _ in range(len(test_n))]"
   ]
  },
  {
   "cell_type": "code",
   "execution_count": 3,
   "metadata": {},
   "outputs": [],
   "source": [
    "def meanerror(n):\n",
    "    A = np.random.rand(n,n)\n",
    "    x = np.random.rand(n)\n",
    "    b = A.dot(x)\n",
    "    y = np.linalg.solve(A,b)\n",
    "    dx = np.mean(abs(x-y))\n",
    "    return dx"
   ]
  },
  {
   "cell_type": "markdown",
   "metadata": {},
   "source": [
    "calculate average absolute mean for each element of the list test_n"
   ]
  },
  {
   "cell_type": "code",
   "execution_count": null,
   "metadata": {},
   "outputs": [],
   "source": [
    "for i in range(len(test_n)):\n",
    "    for j in range(1000):\n",
    "        result[i].append(meanerror(test_n[i]))\n",
    "    avg_means[i] = np.mean(result[i])\n",
    "    print(\"average absolute mean for n =\",test_n[i],\":\",avg_means[i])"
   ]
  },
  {
   "cell_type": "markdown",
   "metadata": {},
   "source": [
    "prepare arrays for plotting and linear regression and print out slope of the fit"
   ]
  },
  {
   "cell_type": "code",
   "execution_count": null,
   "metadata": {},
   "outputs": [],
   "source": [
    "x = test_n\n",
    "y = avg_means\n",
    "\n",
    "log_x = []\n",
    "log_y = []\n",
    "for i in range(len(test_n)):\n",
    "    log_x.append(np.log10(x[i]))\n",
    "    log_y.append(np.log10(y[i]))\n",
    "reg = linregress(log_x,log_y)\n",
    "print(\"slope from linear regression: \", reg.slope)"
   ]
  },
  {
   "cell_type": "markdown",
   "metadata": {},
   "source": [
    "plot a log-log chart for average absolute mean by the number of iterations n"
   ]
  },
  {
   "cell_type": "code",
   "execution_count": null,
   "metadata": {},
   "outputs": [],
   "source": [
    "fig, ax = plt.subplots()\n",
    "ax.set_xscale(\"log\")\n",
    "ax.set_yscale(\"log\")\n",
    "ax.loglog(x,y)\n",
    "ax.set_title(\"average absolute mean by number of iterations n (log-log)\")\n",
    "ax.set_ylabel('average mean')\n",
    "ax.set_xlabel('number of iterations')\n",
    "plt.show()"
   ]
  },
  {
   "cell_type": "markdown",
   "metadata": {},
   "source": [
    "Based on the changes in the average absolute mean for different values of n and the slope of the linear regression fit, $ a = \\frac{3}{2} $ for the $n^{a} $ error seems to be more likely than $ a = 3 $"
   ]
  }
 ],
 "metadata": {
  "kernelspec": {
   "display_name": "na",
   "language": "python",
   "name": "python3"
  },
  "language_info": {
   "codemirror_mode": {
    "name": "ipython",
    "version": 3
   },
   "file_extension": ".py",
   "mimetype": "text/x-python",
   "name": "python",
   "nbconvert_exporter": "python",
   "pygments_lexer": "ipython3",
   "version": "3.12.4"
  }
 },
 "nbformat": 4,
 "nbformat_minor": 2
}
