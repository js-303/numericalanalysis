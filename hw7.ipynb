{
 "cells": [
  {
   "cell_type": "code",
   "execution_count": 1,
   "metadata": {},
   "outputs": [],
   "source": [
    "import numpy as np\n",
    "import matplotlib.pyplot as plt\n",
    "from scipy.interpolate import CubicSpline"
   ]
  },
  {
   "cell_type": "markdown",
   "metadata": {},
   "source": [
    "Problem 1\n",
    "<br>\n",
    "from Sauer (3.14)\n",
    "<br>\n",
    "$|(x-x_1)...(x-x_n)| \\leq \\frac{\\frac{(b-a)}{2}^{n}}{2^{n-1}}$"
   ]
  },
  {
   "cell_type": "code",
   "execution_count": 6,
   "metadata": {},
   "outputs": [],
   "source": [
    "def findUB(a,b,n):\n",
    "    ub = (((b-a)/2)**n)/(2**(n-1))\n",
    "    return ub"
   ]
  },
  {
   "cell_type": "markdown",
   "metadata": {},
   "source": [
    "a) $[-1,1], n=6$"
   ]
  },
  {
   "cell_type": "code",
   "execution_count": null,
   "metadata": {},
   "outputs": [],
   "source": [
    "print(findUB(-1,1,6))"
   ]
  },
  {
   "cell_type": "markdown",
   "metadata": {},
   "source": [
    "b) $[-2,2], n=4$"
   ]
  },
  {
   "cell_type": "code",
   "execution_count": null,
   "metadata": {},
   "outputs": [],
   "source": [
    "print(findUB(-2,2,4))"
   ]
  },
  {
   "cell_type": "markdown",
   "metadata": {},
   "source": [
    "c) $[4,12], n=6$"
   ]
  },
  {
   "cell_type": "code",
   "execution_count": null,
   "metadata": {},
   "outputs": [],
   "source": [
    "print(findUB(4,12,6))"
   ]
  },
  {
   "cell_type": "markdown",
   "metadata": {},
   "source": [
    "d) $[-0.3,0.7], n=5$"
   ]
  },
  {
   "cell_type": "code",
   "execution_count": null,
   "metadata": {},
   "outputs": [],
   "source": [
    "print(findUB(-0.3,0.7,5))"
   ]
  },
  {
   "cell_type": "markdown",
   "metadata": {},
   "source": [
    "Problem 2\n",
    "<br>\n",
    "$|e^{x}-Q_5(x)| \\leq |(x-x_1)...(x-x_6)| \\frac{e^{c}}{6!} \\leq \\frac{\\frac{(b-a)}{2}^{n}}{2^{n-1}}\\frac{e}{6!}$"
   ]
  },
  {
   "cell_type": "markdown",
   "metadata": {},
   "source": [
    "for $[0.6,1.0], n=6$"
   ]
  },
  {
   "cell_type": "code",
   "execution_count": null,
   "metadata": {},
   "outputs": [],
   "source": [
    "ub2 = findUB(0.6,1.0,6)\n",
    "interror = ub2 * np.exp(1)/np.math.factorial(6)\n",
    "print(\"worse case estimate:\",interror, \"\\naccurate to 9 decimal places\")"
   ]
  },
  {
   "cell_type": "markdown",
   "metadata": {},
   "source": [
    "Problem 4\n",
    "<br>\n",
    "find and plot the not-a-knot cubic spline that interpolates the points: (0,3),(1,5),(2,4),(3,1)"
   ]
  },
  {
   "cell_type": "code",
   "execution_count": null,
   "metadata": {},
   "outputs": [],
   "source": [
    "x_points = [0,1,2,3]\n",
    "y_points = [3,5,4,1]\n",
    "sp = CubicSpline(x_points, y_points, bc_type='not-a-knot')\n",
    "print(sp.c)\n",
    "xx = np.linspace(np.min(x_points), np.max(x_points), 1000)\n",
    "fig, ax = plt.subplots(figsize=(5,5))\n",
    "ax.plot(x_points,y_points, 'o')\n",
    "ax.plot(xx, sp(xx))\n",
    "ax.set_xlabel('x')\n",
    "ax.set_ylabel('f(x)')\n",
    "plt.show()"
   ]
  }
 ],
 "metadata": {
  "kernelspec": {
   "display_name": "na",
   "language": "python",
   "name": "python3"
  },
  "language_info": {
   "codemirror_mode": {
    "name": "ipython",
    "version": 3
   },
   "file_extension": ".py",
   "mimetype": "text/x-python",
   "name": "python",
   "nbconvert_exporter": "python",
   "pygments_lexer": "ipython3",
   "version": "3.12.4"
  }
 },
 "nbformat": 4,
 "nbformat_minor": 2
}
