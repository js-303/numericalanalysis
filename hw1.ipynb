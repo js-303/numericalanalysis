{
 "cells": [
  {
   "cell_type": "markdown",
   "metadata": {},
   "source": [
    "Homework 1 Part 2\n",
    "<br>\n",
    "<br>\n",
    "Restate $ f(x) = ln(1+e^x) $ so that increasingly large arguements do not cause the function to return \"inf\"\n",
    "\n"
   ]
  },
  {
   "cell_type": "markdown",
   "metadata": {},
   "source": [
    "$ g(x) = f(x) = ln(1+e^x) = ln(e^x(e^{-x}+1)) = ln(e^x)+ln(e^{-x}+1) = x + ln(e^{-x}+1)$\n",
    "<br>\n",
    "$ g(x)= x + ln(e^{-x}+1) $"
   ]
  },
  {
   "cell_type": "markdown",
   "metadata": {},
   "source": [
    "import the appropriate libraries."
   ]
  },
  {
   "cell_type": "code",
   "execution_count": null,
   "metadata": {},
   "outputs": [],
   "source": [
    "import numpy as np\n",
    "from tabulate import tabulate\n",
    "import matplotlib.pyplot as plt"
   ]
  },
  {
   "cell_type": "markdown",
   "metadata": {},
   "source": [
    "iterate through a list of x values for arguements for the function g(x) and populate a list of the returned values"
   ]
  },
  {
   "cell_type": "code",
   "execution_count": null,
   "metadata": {},
   "outputs": [],
   "source": [
    "#f = lambda x: np.log(np.exp(x)+1)\n",
    "g = lambda x: x + np.log(1+np.exp(-x))\n",
    "\n",
    "x_values = [-100, -10, -1, 0, 1, 10, 100]\n",
    "y_values = []\n",
    "\n",
    "for i in range(len(x_values)):\n",
    "    y_values.append(g(x_values[i]))\n",
    "\n",
    "print(y_values)"
   ]
  },
  {
   "cell_type": "markdown",
   "metadata": {},
   "source": [
    "create table to display the information"
   ]
  },
  {
   "cell_type": "code",
   "execution_count": null,
   "metadata": {},
   "outputs": [],
   "source": [
    "my_data = []\n",
    "\n",
    "for j in range(len(x_values)):\n",
    "    my_data.append([x_values[j], y_values[j]])\n",
    "\n",
    "headers = [\"x\", \"f(x)\"]\n",
    "table1 = tabulate(my_data, headers, tablefmt='grid')\n",
    "print(table1)\n",
    "\n",
    "fig, ax = plt.subplots()\n",
    "table = ax.table(cellText=my_data, colLabels=headers, loc='center')\n",
    "ax.axis('tight')\n",
    "ax.axis('off')\n",
    "plt.show()\n"
   ]
  }
 ],
 "metadata": {
  "language_info": {
   "name": "python"
  }
 },
 "nbformat": 4,
 "nbformat_minor": 2
}
