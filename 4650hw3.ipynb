{
 "cells": [
  {
   "cell_type": "code",
   "execution_count": 2,
   "metadata": {},
   "outputs": [],
   "source": [
    "import numpy as np\n",
    "import matplotlib.pyplot as plt"
   ]
  },
  {
   "cell_type": "code",
   "execution_count": 11,
   "metadata": {},
   "outputs": [],
   "source": [
    "randcos = lambda x: np.cos(x) + np.random.normal(0, 0.1)"
   ]
  },
  {
   "cell_type": "markdown",
   "metadata": {},
   "source": [
    "Using Sauer's method for finding required number of steps from Chapter 1.1, I found the minimum number of steps is 39. I choose the same interval where the root lies for $ f(x)=cos(x) $, $[1,2]$. "
   ]
  },
  {
   "cell_type": "code",
   "execution_count": null,
   "metadata": {},
   "outputs": [],
   "source": [
    "def bisect(f,a,b,N,xtol):\n",
    "  fa = f(a)\n",
    "  fb = f(b)\n",
    "  for i in range(N):\n",
    "    c = (a+b)/2\n",
    "    fc = f(c)\n",
    "    if fc*fa < 0:\n",
    "      b = c\n",
    "      fb = fc\n",
    "    else:\n",
    "      a = c\n",
    "      fa = fc\n",
    "    if b-a < xtol:\n",
    "        return (a+b)/2\n",
    "  return (a+b)/2\n",
    "\n",
    "bisectvalues = []\n",
    "\n",
    "for i in range(10000):\n",
    "    bisectvalues.append(bisect(randcos, 1, 2, 41, 10**(-12)))\n",
    "\n",
    "print(\"first 100 entries in the list bisectvalues:\\n\", bisectvalues[:100], \"\\n\")\n",
    "bisect_std_dev = np.std(bisectvalues)\n",
    "bisect_mean = np.mean(bisectvalues)\n",
    "\n",
    "print(\"standard deviation for list bisectvalues: \", bisect_std_dev)\n",
    "print(\"mean of list bisectvalues: \", bisect_mean)\n",
    "print(\"f(x)=cos(x): \", bisect(lambda x: np.cos(x), 0, 4, 41, 10**(-12)))"
   ]
  },
  {
   "cell_type": "markdown",
   "metadata": {},
   "source": [
    "plot a histogram of the distribution of values in the list bisectvalues."
   ]
  },
  {
   "cell_type": "code",
   "execution_count": null,
   "metadata": {},
   "outputs": [],
   "source": [
    "plt.hist(bisectvalues, bins=100, color='r', edgecolor='k')\n",
    "plt.axvline(bisect_mean, color='k', linestyle='dashed')\n",
    "plt.xlim(xmin=1, xmax=2)\n",
    "plt.xlabel(\"bisectvalues\")\n",
    "plt.ylabel(\"frequency\")\n",
    "plt.show()"
   ]
  },
  {
   "cell_type": "markdown",
   "metadata": {},
   "source": [
    "For the fixed point iteration function, I need a $ f(x)=g(x)-x=0 $"
   ]
  },
  {
   "cell_type": "code",
   "execution_count": 3,
   "metadata": {},
   "outputs": [],
   "source": [
    "randcos = lambda x: np.cos(x) + np.random.normal(0, 0.1) - x"
   ]
  },
  {
   "cell_type": "markdown",
   "metadata": {},
   "source": [
    "I got $ n=70 $ from the code in Liu Chapter 2.6 and choose $ x_0 = 0.1 $ ."
   ]
  },
  {
   "cell_type": "code",
   "execution_count": null,
   "metadata": {},
   "outputs": [],
   "source": [
    "def fixedpoint(f, x_0, xtol, n):\n",
    "    x_n = x_0\n",
    "    for i in range(n):\n",
    "        f_x_n = f(x_n)\n",
    "        if abs(f_x_n-x_n) < xtol:\n",
    "            return f_x_n\n",
    "        x_n = f_x_n\n",
    "    return f(x_n)\n",
    "\n",
    "\n",
    "fpvalues = []\n",
    "\n",
    "for i in range(10000):\n",
    "    fpvalues.append(fixedpoint(randcos, 0.1, 10**(-12), 70))\n",
    "\n",
    "print(\"first 100 entries in the list fixedpointvalues:\\n\", fpvalues[:100])\n",
    "fp_std_dev = np.std(fpvalues)\n",
    "fp_mean = np.mean(fpvalues)\n",
    "print(\"standard deviation for list fpvalues: \", fp_std_dev)\n",
    "print(\"mean of list fpvalues: \", fp_mean)\n",
    "print(\"f(x)=cos(x): \", bisect(lambda x: np.cos(x), 0, 4, 41, 10**(-12)))"
   ]
  },
  {
   "cell_type": "markdown",
   "metadata": {},
   "source": [
    "plot a histogram of the distribution of values in fpvalues."
   ]
  },
  {
   "cell_type": "code",
   "execution_count": null,
   "metadata": {},
   "outputs": [],
   "source": [
    "plt.hist(fpvalues, bins=100, color='b', edgecolor='k')\n",
    "plt.axvline(fp_mean, color='k', linestyle='dashed')\n",
    "plt.xlim(xmin = 1, xmax=2)\n",
    "plt.xlabel(\"fpvalues\")\n",
    "plt.ylabel(\"frequency\")\n",
    "plt.show()"
   ]
  },
  {
   "cell_type": "markdown",
   "metadata": {},
   "source": [
    "The means from both groups are close to the actual root, but the mean of the fixed point group is closer to the actual root of $ f(x) = cos(x) $\n",
    "\n",
    "note: I tried to get the x axis of the histograms to reflect the standard deviation, but I ran out of time."
   ]
  }
 ],
 "metadata": {
  "kernelspec": {
   "display_name": "na",
   "language": "python",
   "name": "python3"
  },
  "language_info": {
   "codemirror_mode": {
    "name": "ipython",
    "version": 3
   },
   "file_extension": ".py",
   "mimetype": "text/x-python",
   "name": "python",
   "nbconvert_exporter": "python",
   "pygments_lexer": "ipython3",
   "version": "3.12.4"
  }
 },
 "nbformat": 4,
 "nbformat_minor": 2
}
